{
 "cells": [
  {
   "cell_type": "markdown",
   "id": "eb4e442f",
   "metadata": {},
   "source": [
    "# PARKINSON'S DISEASE DETECTION USING CLASSIFICATION ALGORITHM"
   ]
  },
  {
   "cell_type": "markdown",
   "id": "f74c9557",
   "metadata": {},
   "source": [
    "We have a dataset of 195 patients. Based on various attributes, it is determined whether these patients suffer from Parkinson's disease or not. We shall fit a Classification model to the dataset to achieve an objective with highest possible accurracy of estimating whether a new patient with same attributes suffers from Parkinson's Disease or not. Below written is the context of the dataset.\n",
    "\n",
    "**Source of the data:** Kaggle"
   ]
  },
  {
   "cell_type": "markdown",
   "id": "6d38055b",
   "metadata": {},
   "source": [
    "**Context:** Parkinson’s Disease (PD) is a degenerative neurological disorder marked by decreased dopamine levels in the brain.Traditional diagnosis of Parkinson’s Disease involves a clinician taking a neurological history of the patient and observing motor skills in various situations. \n",
    "\n",
    "Since there is no definitive laboratory test to diagnose PD, diagnosis is often difficult, particularly in the early stages when motor effects are not yet severe. Monitoring progression of the disease over time requires repeated clinic visits by the patient. An effective screening process, particularly one that doesn’t require a clinic visit, would be beneficial. \n",
    "\n",
    "Since PD patients exhibit characteristic vocal features, voice recordings are a useful and non-invasive tool for diagnosis. If machine learning algorithms could be applied to a voice recording dataset to accurately diagnosis PD, this would be an effective screening step prior to an appointment with a clinician.\n",
    "\n",
    "**Source of the context:** Kaggle"
   ]
  },
  {
   "cell_type": "markdown",
   "id": "b912c753",
   "metadata": {},
   "source": [
    "**Citation:\n",
    "'Exploiting Nonlinear Recurrence and Fractal Scaling Properties for Voice Disorder Detection',\n",
    "Little MA, McSharry PE, Roberts SJ, Costello DAE, Moroz IM.\n",
    "BioMedical Engineering OnLine 2007, 6:23 (26 June 2007)**"
   ]
  },
  {
   "cell_type": "markdown",
   "id": "b55e7f48",
   "metadata": {},
   "source": [
    "The proceedure will be as follows:\n",
    "1. Loading and understanding the dataset\n",
    "2. Cleaning and Preprocessing the data with required Data Visualisation\n",
    "3. Fitting the data to an appropriate Classification model \n",
    "4. Evaluation\n",
    "5. Conclusion"
   ]
  },
  {
   "cell_type": "markdown",
   "id": "d72b411f",
   "metadata": {},
   "source": [
    "## Loading and Understanding the dataset\n",
    "Let us first load the data and perform various functions to understand it."
   ]
  },
  {
   "cell_type": "code",
   "execution_count": 6,
   "id": "3c9d0b90",
   "metadata": {},
   "outputs": [],
   "source": [
    "#Importing all required libraries\n",
    "import pandas as pd\n",
    "import numpy as np\n",
    "import matplotlib.pyplot as plt\n",
    "from sklearn import preprocessing\n",
    "from sklearn.preprocessing import StandardScaler\n",
    "from sklearn.model_selection import train_test_split\n",
    "import seaborn as sb\n",
    "from sklearn import metrics\n",
    "from sklearn.metrics import f1_score\n",
    "from sklearn.tree import DecisionTreeClassifier  \n",
    "from sklearn import svm  \n",
    "from sklearn.linear_model import LogisticRegression  \n",
    "from sklearn.metrics import confusion_matrix \n",
    "from sklearn.metrics import accuracy_score\n",
    "from sklearn.metrics import log_loss\n",
    "import warnings\n",
    "from sklearn.neighbors import KNeighborsClassifier  \n",
    "warnings.filterwarnings('ignore')\n",
    "%matplotlib inline"
   ]
  },
  {
   "cell_type": "code",
   "execution_count": 7,
   "id": "fef9ef1a",
   "metadata": {},
   "outputs": [
    {
     "data": {
      "text/html": [
       "<div>\n",
       "<style scoped>\n",
       "    .dataframe tbody tr th:only-of-type {\n",
       "        vertical-align: middle;\n",
       "    }\n",
       "\n",
       "    .dataframe tbody tr th {\n",
       "        vertical-align: top;\n",
       "    }\n",
       "\n",
       "    .dataframe thead th {\n",
       "        text-align: right;\n",
       "    }\n",
       "</style>\n",
       "<table border=\"1\" class=\"dataframe\">\n",
       "  <thead>\n",
       "    <tr style=\"text-align: right;\">\n",
       "      <th></th>\n",
       "      <th>name</th>\n",
       "      <th>MDVP:Fo(Hz)</th>\n",
       "      <th>MDVP:Fhi(Hz)</th>\n",
       "      <th>MDVP:Flo(Hz)</th>\n",
       "      <th>MDVP:Jitter(%)</th>\n",
       "      <th>MDVP:Jitter(Abs)</th>\n",
       "      <th>MDVP:RAP</th>\n",
       "      <th>MDVP:PPQ</th>\n",
       "      <th>Jitter:DDP</th>\n",
       "      <th>MDVP:Shimmer</th>\n",
       "      <th>...</th>\n",
       "      <th>Shimmer:DDA</th>\n",
       "      <th>NHR</th>\n",
       "      <th>HNR</th>\n",
       "      <th>status</th>\n",
       "      <th>RPDE</th>\n",
       "      <th>DFA</th>\n",
       "      <th>spread1</th>\n",
       "      <th>spread2</th>\n",
       "      <th>D2</th>\n",
       "      <th>PPE</th>\n",
       "    </tr>\n",
       "  </thead>\n",
       "  <tbody>\n",
       "    <tr>\n",
       "      <th>0</th>\n",
       "      <td>phon_R01_S01_1</td>\n",
       "      <td>119.992</td>\n",
       "      <td>157.302</td>\n",
       "      <td>74.997</td>\n",
       "      <td>0.00784</td>\n",
       "      <td>0.00007</td>\n",
       "      <td>0.00370</td>\n",
       "      <td>0.00554</td>\n",
       "      <td>0.01109</td>\n",
       "      <td>0.04374</td>\n",
       "      <td>...</td>\n",
       "      <td>0.06545</td>\n",
       "      <td>0.02211</td>\n",
       "      <td>21.033</td>\n",
       "      <td>1</td>\n",
       "      <td>0.414783</td>\n",
       "      <td>0.815285</td>\n",
       "      <td>-4.813031</td>\n",
       "      <td>0.266482</td>\n",
       "      <td>2.301442</td>\n",
       "      <td>0.284654</td>\n",
       "    </tr>\n",
       "    <tr>\n",
       "      <th>1</th>\n",
       "      <td>phon_R01_S01_2</td>\n",
       "      <td>122.400</td>\n",
       "      <td>148.650</td>\n",
       "      <td>113.819</td>\n",
       "      <td>0.00968</td>\n",
       "      <td>0.00008</td>\n",
       "      <td>0.00465</td>\n",
       "      <td>0.00696</td>\n",
       "      <td>0.01394</td>\n",
       "      <td>0.06134</td>\n",
       "      <td>...</td>\n",
       "      <td>0.09403</td>\n",
       "      <td>0.01929</td>\n",
       "      <td>19.085</td>\n",
       "      <td>1</td>\n",
       "      <td>0.458359</td>\n",
       "      <td>0.819521</td>\n",
       "      <td>-4.075192</td>\n",
       "      <td>0.335590</td>\n",
       "      <td>2.486855</td>\n",
       "      <td>0.368674</td>\n",
       "    </tr>\n",
       "    <tr>\n",
       "      <th>2</th>\n",
       "      <td>phon_R01_S01_3</td>\n",
       "      <td>116.682</td>\n",
       "      <td>131.111</td>\n",
       "      <td>111.555</td>\n",
       "      <td>0.01050</td>\n",
       "      <td>0.00009</td>\n",
       "      <td>0.00544</td>\n",
       "      <td>0.00781</td>\n",
       "      <td>0.01633</td>\n",
       "      <td>0.05233</td>\n",
       "      <td>...</td>\n",
       "      <td>0.08270</td>\n",
       "      <td>0.01309</td>\n",
       "      <td>20.651</td>\n",
       "      <td>1</td>\n",
       "      <td>0.429895</td>\n",
       "      <td>0.825288</td>\n",
       "      <td>-4.443179</td>\n",
       "      <td>0.311173</td>\n",
       "      <td>2.342259</td>\n",
       "      <td>0.332634</td>\n",
       "    </tr>\n",
       "    <tr>\n",
       "      <th>3</th>\n",
       "      <td>phon_R01_S01_4</td>\n",
       "      <td>116.676</td>\n",
       "      <td>137.871</td>\n",
       "      <td>111.366</td>\n",
       "      <td>0.00997</td>\n",
       "      <td>0.00009</td>\n",
       "      <td>0.00502</td>\n",
       "      <td>0.00698</td>\n",
       "      <td>0.01505</td>\n",
       "      <td>0.05492</td>\n",
       "      <td>...</td>\n",
       "      <td>0.08771</td>\n",
       "      <td>0.01353</td>\n",
       "      <td>20.644</td>\n",
       "      <td>1</td>\n",
       "      <td>0.434969</td>\n",
       "      <td>0.819235</td>\n",
       "      <td>-4.117501</td>\n",
       "      <td>0.334147</td>\n",
       "      <td>2.405554</td>\n",
       "      <td>0.368975</td>\n",
       "    </tr>\n",
       "    <tr>\n",
       "      <th>4</th>\n",
       "      <td>phon_R01_S01_5</td>\n",
       "      <td>116.014</td>\n",
       "      <td>141.781</td>\n",
       "      <td>110.655</td>\n",
       "      <td>0.01284</td>\n",
       "      <td>0.00011</td>\n",
       "      <td>0.00655</td>\n",
       "      <td>0.00908</td>\n",
       "      <td>0.01966</td>\n",
       "      <td>0.06425</td>\n",
       "      <td>...</td>\n",
       "      <td>0.10470</td>\n",
       "      <td>0.01767</td>\n",
       "      <td>19.649</td>\n",
       "      <td>1</td>\n",
       "      <td>0.417356</td>\n",
       "      <td>0.823484</td>\n",
       "      <td>-3.747787</td>\n",
       "      <td>0.234513</td>\n",
       "      <td>2.332180</td>\n",
       "      <td>0.410335</td>\n",
       "    </tr>\n",
       "  </tbody>\n",
       "</table>\n",
       "<p>5 rows × 24 columns</p>\n",
       "</div>"
      ],
      "text/plain": [
       "             name  MDVP:Fo(Hz)  MDVP:Fhi(Hz)  MDVP:Flo(Hz)  MDVP:Jitter(%)  \\\n",
       "0  phon_R01_S01_1      119.992       157.302        74.997         0.00784   \n",
       "1  phon_R01_S01_2      122.400       148.650       113.819         0.00968   \n",
       "2  phon_R01_S01_3      116.682       131.111       111.555         0.01050   \n",
       "3  phon_R01_S01_4      116.676       137.871       111.366         0.00997   \n",
       "4  phon_R01_S01_5      116.014       141.781       110.655         0.01284   \n",
       "\n",
       "   MDVP:Jitter(Abs)  MDVP:RAP  MDVP:PPQ  Jitter:DDP  MDVP:Shimmer  ...  \\\n",
       "0           0.00007   0.00370   0.00554     0.01109       0.04374  ...   \n",
       "1           0.00008   0.00465   0.00696     0.01394       0.06134  ...   \n",
       "2           0.00009   0.00544   0.00781     0.01633       0.05233  ...   \n",
       "3           0.00009   0.00502   0.00698     0.01505       0.05492  ...   \n",
       "4           0.00011   0.00655   0.00908     0.01966       0.06425  ...   \n",
       "\n",
       "   Shimmer:DDA      NHR     HNR  status      RPDE       DFA   spread1  \\\n",
       "0      0.06545  0.02211  21.033       1  0.414783  0.815285 -4.813031   \n",
       "1      0.09403  0.01929  19.085       1  0.458359  0.819521 -4.075192   \n",
       "2      0.08270  0.01309  20.651       1  0.429895  0.825288 -4.443179   \n",
       "3      0.08771  0.01353  20.644       1  0.434969  0.819235 -4.117501   \n",
       "4      0.10470  0.01767  19.649       1  0.417356  0.823484 -3.747787   \n",
       "\n",
       "    spread2        D2       PPE  \n",
       "0  0.266482  2.301442  0.284654  \n",
       "1  0.335590  2.486855  0.368674  \n",
       "2  0.311173  2.342259  0.332634  \n",
       "3  0.334147  2.405554  0.368975  \n",
       "4  0.234513  2.332180  0.410335  \n",
       "\n",
       "[5 rows x 24 columns]"
      ]
     },
     "execution_count": 7,
     "metadata": {},
     "output_type": "execute_result"
    }
   ],
   "source": [
    "#Reading the dataset\n",
    "df=pd.read_csv(\"Parkinsson disease.csv\")\n",
    "\n",
    "#Displaying first five rows of the dataset\n",
    "df.head()"
   ]
  },
  {
   "cell_type": "code",
   "execution_count": 8,
   "id": "e644bed4",
   "metadata": {},
   "outputs": [
    {
     "data": {
      "text/plain": [
       "(195, 24)"
      ]
     },
     "execution_count": 8,
     "metadata": {},
     "output_type": "execute_result"
    }
   ],
   "source": [
    "#Displaying size of the dataset\n",
    "df.shape"
   ]
  },
  {
   "cell_type": "code",
   "execution_count": 9,
   "id": "2529771e",
   "metadata": {},
   "outputs": [
    {
     "data": {
      "text/plain": [
       "Index(['name', 'MDVP:Fo(Hz)', 'MDVP:Fhi(Hz)', 'MDVP:Flo(Hz)', 'MDVP:Jitter(%)',\n",
       "       'MDVP:Jitter(Abs)', 'MDVP:RAP', 'MDVP:PPQ', 'Jitter:DDP',\n",
       "       'MDVP:Shimmer', 'MDVP:Shimmer(dB)', 'Shimmer:APQ3', 'Shimmer:APQ5',\n",
       "       'MDVP:APQ', 'Shimmer:DDA', 'NHR', 'HNR', 'status', 'RPDE', 'DFA',\n",
       "       'spread1', 'spread2', 'D2', 'PPE'],\n",
       "      dtype='object')"
      ]
     },
     "execution_count": 9,
     "metadata": {},
     "output_type": "execute_result"
    }
   ],
   "source": [
    "#Displaying all columns\n",
    "df.columns"
   ]
  },
  {
   "cell_type": "markdown",
   "id": "77e85428",
   "metadata": {},
   "source": [
    "Below mentioned list explains what these column titles mean.\n",
    "\n",
    "1. name - ASCII subject name and recording number\n",
    "2. MDVP:Fo(Hz) - Average vocal fundamental frequency\n",
    "3. MDVP:Fhi(Hz) - Maximum vocal fundamental frequency\n",
    "4. MDVP:Flo(Hz) - Minimum vocal fundamental frequency\n",
    "5. MDVP:Jitter(%)\n",
    "6. MDVP:Jitter(Abs)\n",
    "7. MDVP:RAP\n",
    "8. MDVP:PPQ\n",
    "9. Jitter:DDP - Several measures of variation in fundamental frequency\n",
    "10. MDVP:Shimmer\n",
    "11. MDVP:Shimmer(dB)\n",
    "12. Shimmer:APQ3\n",
    "13. Shimmer:APQ5\n",
    "14. MDVP:APQ\n",
    "15. Shimmer:DDA - Several measures of variation in amplitude\n",
    "16. /17. NHR,HNR - Two measures of ratio of noise to tonal components in the voice\n",
    "18. status - Health status of the subject (one) - Parkinson's, (zero) - healthy\n",
    "19. /20. RPDE,D2 - Two nonlinear dynamical complexity measures\n",
    "21. DFA - Signal fractal scaling exponent\n",
    "22. /23. /24. spread1,spread2,PPE - Three nonlinear measures of fundamental frequency variation\n",
    "\n",
    "***[The explanation has been taken from the information available along with the dataset on Kaggle.]***"
   ]
  },
  {
   "cell_type": "code",
   "execution_count": 10,
   "id": "adc78f64",
   "metadata": {},
   "outputs": [
    {
     "data": {
      "text/plain": [
       "name                 object\n",
       "MDVP:Fo(Hz)         float64\n",
       "MDVP:Fhi(Hz)        float64\n",
       "MDVP:Flo(Hz)        float64\n",
       "MDVP:Jitter(%)      float64\n",
       "MDVP:Jitter(Abs)    float64\n",
       "MDVP:RAP            float64\n",
       "MDVP:PPQ            float64\n",
       "Jitter:DDP          float64\n",
       "MDVP:Shimmer        float64\n",
       "MDVP:Shimmer(dB)    float64\n",
       "Shimmer:APQ3        float64\n",
       "Shimmer:APQ5        float64\n",
       "MDVP:APQ            float64\n",
       "Shimmer:DDA         float64\n",
       "NHR                 float64\n",
       "HNR                 float64\n",
       "status                int64\n",
       "RPDE                float64\n",
       "DFA                 float64\n",
       "spread1             float64\n",
       "spread2             float64\n",
       "D2                  float64\n",
       "PPE                 float64\n",
       "dtype: object"
      ]
     },
     "execution_count": 10,
     "metadata": {},
     "output_type": "execute_result"
    }
   ],
   "source": [
    "#Displaying datatype of each column\n",
    "df.dtypes"
   ]
  },
  {
   "cell_type": "markdown",
   "id": "3bc6dd63",
   "metadata": {},
   "source": [
    "Here, name is of object type. We do not require this column so we'll drop it to save memory."
   ]
  },
  {
   "cell_type": "code",
   "execution_count": 11,
   "id": "ace6f7de",
   "metadata": {},
   "outputs": [
    {
     "data": {
      "text/html": [
       "<div>\n",
       "<style scoped>\n",
       "    .dataframe tbody tr th:only-of-type {\n",
       "        vertical-align: middle;\n",
       "    }\n",
       "\n",
       "    .dataframe tbody tr th {\n",
       "        vertical-align: top;\n",
       "    }\n",
       "\n",
       "    .dataframe thead th {\n",
       "        text-align: right;\n",
       "    }\n",
       "</style>\n",
       "<table border=\"1\" class=\"dataframe\">\n",
       "  <thead>\n",
       "    <tr style=\"text-align: right;\">\n",
       "      <th></th>\n",
       "      <th>MDVP:Fo(Hz)</th>\n",
       "      <th>MDVP:Fhi(Hz)</th>\n",
       "      <th>MDVP:Flo(Hz)</th>\n",
       "      <th>MDVP:Jitter(%)</th>\n",
       "      <th>MDVP:Jitter(Abs)</th>\n",
       "      <th>MDVP:RAP</th>\n",
       "      <th>MDVP:PPQ</th>\n",
       "      <th>Jitter:DDP</th>\n",
       "      <th>MDVP:Shimmer</th>\n",
       "      <th>MDVP:Shimmer(dB)</th>\n",
       "      <th>...</th>\n",
       "      <th>Shimmer:DDA</th>\n",
       "      <th>NHR</th>\n",
       "      <th>HNR</th>\n",
       "      <th>status</th>\n",
       "      <th>RPDE</th>\n",
       "      <th>DFA</th>\n",
       "      <th>spread1</th>\n",
       "      <th>spread2</th>\n",
       "      <th>D2</th>\n",
       "      <th>PPE</th>\n",
       "    </tr>\n",
       "  </thead>\n",
       "  <tbody>\n",
       "    <tr>\n",
       "      <th>0</th>\n",
       "      <td>119.992</td>\n",
       "      <td>157.302</td>\n",
       "      <td>74.997</td>\n",
       "      <td>0.00784</td>\n",
       "      <td>0.00007</td>\n",
       "      <td>0.00370</td>\n",
       "      <td>0.00554</td>\n",
       "      <td>0.01109</td>\n",
       "      <td>0.04374</td>\n",
       "      <td>0.426</td>\n",
       "      <td>...</td>\n",
       "      <td>0.06545</td>\n",
       "      <td>0.02211</td>\n",
       "      <td>21.033</td>\n",
       "      <td>1</td>\n",
       "      <td>0.414783</td>\n",
       "      <td>0.815285</td>\n",
       "      <td>-4.813031</td>\n",
       "      <td>0.266482</td>\n",
       "      <td>2.301442</td>\n",
       "      <td>0.284654</td>\n",
       "    </tr>\n",
       "    <tr>\n",
       "      <th>1</th>\n",
       "      <td>122.400</td>\n",
       "      <td>148.650</td>\n",
       "      <td>113.819</td>\n",
       "      <td>0.00968</td>\n",
       "      <td>0.00008</td>\n",
       "      <td>0.00465</td>\n",
       "      <td>0.00696</td>\n",
       "      <td>0.01394</td>\n",
       "      <td>0.06134</td>\n",
       "      <td>0.626</td>\n",
       "      <td>...</td>\n",
       "      <td>0.09403</td>\n",
       "      <td>0.01929</td>\n",
       "      <td>19.085</td>\n",
       "      <td>1</td>\n",
       "      <td>0.458359</td>\n",
       "      <td>0.819521</td>\n",
       "      <td>-4.075192</td>\n",
       "      <td>0.335590</td>\n",
       "      <td>2.486855</td>\n",
       "      <td>0.368674</td>\n",
       "    </tr>\n",
       "    <tr>\n",
       "      <th>2</th>\n",
       "      <td>116.682</td>\n",
       "      <td>131.111</td>\n",
       "      <td>111.555</td>\n",
       "      <td>0.01050</td>\n",
       "      <td>0.00009</td>\n",
       "      <td>0.00544</td>\n",
       "      <td>0.00781</td>\n",
       "      <td>0.01633</td>\n",
       "      <td>0.05233</td>\n",
       "      <td>0.482</td>\n",
       "      <td>...</td>\n",
       "      <td>0.08270</td>\n",
       "      <td>0.01309</td>\n",
       "      <td>20.651</td>\n",
       "      <td>1</td>\n",
       "      <td>0.429895</td>\n",
       "      <td>0.825288</td>\n",
       "      <td>-4.443179</td>\n",
       "      <td>0.311173</td>\n",
       "      <td>2.342259</td>\n",
       "      <td>0.332634</td>\n",
       "    </tr>\n",
       "    <tr>\n",
       "      <th>3</th>\n",
       "      <td>116.676</td>\n",
       "      <td>137.871</td>\n",
       "      <td>111.366</td>\n",
       "      <td>0.00997</td>\n",
       "      <td>0.00009</td>\n",
       "      <td>0.00502</td>\n",
       "      <td>0.00698</td>\n",
       "      <td>0.01505</td>\n",
       "      <td>0.05492</td>\n",
       "      <td>0.517</td>\n",
       "      <td>...</td>\n",
       "      <td>0.08771</td>\n",
       "      <td>0.01353</td>\n",
       "      <td>20.644</td>\n",
       "      <td>1</td>\n",
       "      <td>0.434969</td>\n",
       "      <td>0.819235</td>\n",
       "      <td>-4.117501</td>\n",
       "      <td>0.334147</td>\n",
       "      <td>2.405554</td>\n",
       "      <td>0.368975</td>\n",
       "    </tr>\n",
       "    <tr>\n",
       "      <th>4</th>\n",
       "      <td>116.014</td>\n",
       "      <td>141.781</td>\n",
       "      <td>110.655</td>\n",
       "      <td>0.01284</td>\n",
       "      <td>0.00011</td>\n",
       "      <td>0.00655</td>\n",
       "      <td>0.00908</td>\n",
       "      <td>0.01966</td>\n",
       "      <td>0.06425</td>\n",
       "      <td>0.584</td>\n",
       "      <td>...</td>\n",
       "      <td>0.10470</td>\n",
       "      <td>0.01767</td>\n",
       "      <td>19.649</td>\n",
       "      <td>1</td>\n",
       "      <td>0.417356</td>\n",
       "      <td>0.823484</td>\n",
       "      <td>-3.747787</td>\n",
       "      <td>0.234513</td>\n",
       "      <td>2.332180</td>\n",
       "      <td>0.410335</td>\n",
       "    </tr>\n",
       "  </tbody>\n",
       "</table>\n",
       "<p>5 rows × 23 columns</p>\n",
       "</div>"
      ],
      "text/plain": [
       "   MDVP:Fo(Hz)  MDVP:Fhi(Hz)  MDVP:Flo(Hz)  MDVP:Jitter(%)  MDVP:Jitter(Abs)  \\\n",
       "0      119.992       157.302        74.997         0.00784           0.00007   \n",
       "1      122.400       148.650       113.819         0.00968           0.00008   \n",
       "2      116.682       131.111       111.555         0.01050           0.00009   \n",
       "3      116.676       137.871       111.366         0.00997           0.00009   \n",
       "4      116.014       141.781       110.655         0.01284           0.00011   \n",
       "\n",
       "   MDVP:RAP  MDVP:PPQ  Jitter:DDP  MDVP:Shimmer  MDVP:Shimmer(dB)  ...  \\\n",
       "0   0.00370   0.00554     0.01109       0.04374             0.426  ...   \n",
       "1   0.00465   0.00696     0.01394       0.06134             0.626  ...   \n",
       "2   0.00544   0.00781     0.01633       0.05233             0.482  ...   \n",
       "3   0.00502   0.00698     0.01505       0.05492             0.517  ...   \n",
       "4   0.00655   0.00908     0.01966       0.06425             0.584  ...   \n",
       "\n",
       "   Shimmer:DDA      NHR     HNR  status      RPDE       DFA   spread1  \\\n",
       "0      0.06545  0.02211  21.033       1  0.414783  0.815285 -4.813031   \n",
       "1      0.09403  0.01929  19.085       1  0.458359  0.819521 -4.075192   \n",
       "2      0.08270  0.01309  20.651       1  0.429895  0.825288 -4.443179   \n",
       "3      0.08771  0.01353  20.644       1  0.434969  0.819235 -4.117501   \n",
       "4      0.10470  0.01767  19.649       1  0.417356  0.823484 -3.747787   \n",
       "\n",
       "    spread2        D2       PPE  \n",
       "0  0.266482  2.301442  0.284654  \n",
       "1  0.335590  2.486855  0.368674  \n",
       "2  0.311173  2.342259  0.332634  \n",
       "3  0.334147  2.405554  0.368975  \n",
       "4  0.234513  2.332180  0.410335  \n",
       "\n",
       "[5 rows x 23 columns]"
      ]
     },
     "execution_count": 11,
     "metadata": {},
     "output_type": "execute_result"
    }
   ],
   "source": [
    "#Dropping the name column\n",
    "pkd = df.drop(columns='name')\n",
    "\n",
    "#We have stored the modified dataset in 'pkd'\n",
    "\n",
    "#Displaying first 5 rows after dropping required columns\n",
    "pkd.head()"
   ]
  },
  {
   "cell_type": "code",
   "execution_count": 12,
   "id": "a0fe3efe",
   "metadata": {},
   "outputs": [
    {
     "data": {
      "text/plain": [
       "(195, 23)"
      ]
     },
     "execution_count": 12,
     "metadata": {},
     "output_type": "execute_result"
    }
   ],
   "source": [
    "#Displaying size of the dataset after dropping required columns\n",
    "pkd.shape"
   ]
  },
  {
   "cell_type": "markdown",
   "id": "0e0edb19",
   "metadata": {},
   "source": [
    "After dropping the name column, we are left with 22 columns with float datatype values and 1 column with integer datatype value. Let's get going."
   ]
  },
  {
   "cell_type": "code",
   "execution_count": 13,
   "id": "f73fb154",
   "metadata": {},
   "outputs": [
    {
     "data": {
      "text/html": [
       "<div>\n",
       "<style scoped>\n",
       "    .dataframe tbody tr th:only-of-type {\n",
       "        vertical-align: middle;\n",
       "    }\n",
       "\n",
       "    .dataframe tbody tr th {\n",
       "        vertical-align: top;\n",
       "    }\n",
       "\n",
       "    .dataframe thead th {\n",
       "        text-align: right;\n",
       "    }\n",
       "</style>\n",
       "<table border=\"1\" class=\"dataframe\">\n",
       "  <thead>\n",
       "    <tr style=\"text-align: right;\">\n",
       "      <th></th>\n",
       "      <th>MDVP:Fo(Hz)</th>\n",
       "      <th>MDVP:Fhi(Hz)</th>\n",
       "      <th>MDVP:Flo(Hz)</th>\n",
       "      <th>MDVP:Jitter(%)</th>\n",
       "      <th>MDVP:Jitter(Abs)</th>\n",
       "      <th>MDVP:RAP</th>\n",
       "      <th>MDVP:PPQ</th>\n",
       "      <th>Jitter:DDP</th>\n",
       "      <th>MDVP:Shimmer</th>\n",
       "      <th>MDVP:Shimmer(dB)</th>\n",
       "      <th>...</th>\n",
       "      <th>Shimmer:DDA</th>\n",
       "      <th>NHR</th>\n",
       "      <th>HNR</th>\n",
       "      <th>status</th>\n",
       "      <th>RPDE</th>\n",
       "      <th>DFA</th>\n",
       "      <th>spread1</th>\n",
       "      <th>spread2</th>\n",
       "      <th>D2</th>\n",
       "      <th>PPE</th>\n",
       "    </tr>\n",
       "  </thead>\n",
       "  <tbody>\n",
       "    <tr>\n",
       "      <th>count</th>\n",
       "      <td>195.000000</td>\n",
       "      <td>195.000000</td>\n",
       "      <td>195.000000</td>\n",
       "      <td>195.000000</td>\n",
       "      <td>195.000000</td>\n",
       "      <td>195.000000</td>\n",
       "      <td>195.000000</td>\n",
       "      <td>195.000000</td>\n",
       "      <td>195.000000</td>\n",
       "      <td>195.000000</td>\n",
       "      <td>...</td>\n",
       "      <td>195.000000</td>\n",
       "      <td>195.000000</td>\n",
       "      <td>195.000000</td>\n",
       "      <td>195.000000</td>\n",
       "      <td>195.000000</td>\n",
       "      <td>195.000000</td>\n",
       "      <td>195.000000</td>\n",
       "      <td>195.000000</td>\n",
       "      <td>195.000000</td>\n",
       "      <td>195.000000</td>\n",
       "    </tr>\n",
       "    <tr>\n",
       "      <th>mean</th>\n",
       "      <td>154.228641</td>\n",
       "      <td>197.104918</td>\n",
       "      <td>116.324631</td>\n",
       "      <td>0.006220</td>\n",
       "      <td>0.000044</td>\n",
       "      <td>0.003306</td>\n",
       "      <td>0.003446</td>\n",
       "      <td>0.009920</td>\n",
       "      <td>0.029709</td>\n",
       "      <td>0.282251</td>\n",
       "      <td>...</td>\n",
       "      <td>0.046993</td>\n",
       "      <td>0.024847</td>\n",
       "      <td>21.885974</td>\n",
       "      <td>0.753846</td>\n",
       "      <td>0.498536</td>\n",
       "      <td>0.718099</td>\n",
       "      <td>-5.684397</td>\n",
       "      <td>0.226510</td>\n",
       "      <td>2.381826</td>\n",
       "      <td>0.206552</td>\n",
       "    </tr>\n",
       "    <tr>\n",
       "      <th>std</th>\n",
       "      <td>41.390065</td>\n",
       "      <td>91.491548</td>\n",
       "      <td>43.521413</td>\n",
       "      <td>0.004848</td>\n",
       "      <td>0.000035</td>\n",
       "      <td>0.002968</td>\n",
       "      <td>0.002759</td>\n",
       "      <td>0.008903</td>\n",
       "      <td>0.018857</td>\n",
       "      <td>0.194877</td>\n",
       "      <td>...</td>\n",
       "      <td>0.030459</td>\n",
       "      <td>0.040418</td>\n",
       "      <td>4.425764</td>\n",
       "      <td>0.431878</td>\n",
       "      <td>0.103942</td>\n",
       "      <td>0.055336</td>\n",
       "      <td>1.090208</td>\n",
       "      <td>0.083406</td>\n",
       "      <td>0.382799</td>\n",
       "      <td>0.090119</td>\n",
       "    </tr>\n",
       "    <tr>\n",
       "      <th>min</th>\n",
       "      <td>88.333000</td>\n",
       "      <td>102.145000</td>\n",
       "      <td>65.476000</td>\n",
       "      <td>0.001680</td>\n",
       "      <td>0.000007</td>\n",
       "      <td>0.000680</td>\n",
       "      <td>0.000920</td>\n",
       "      <td>0.002040</td>\n",
       "      <td>0.009540</td>\n",
       "      <td>0.085000</td>\n",
       "      <td>...</td>\n",
       "      <td>0.013640</td>\n",
       "      <td>0.000650</td>\n",
       "      <td>8.441000</td>\n",
       "      <td>0.000000</td>\n",
       "      <td>0.256570</td>\n",
       "      <td>0.574282</td>\n",
       "      <td>-7.964984</td>\n",
       "      <td>0.006274</td>\n",
       "      <td>1.423287</td>\n",
       "      <td>0.044539</td>\n",
       "    </tr>\n",
       "    <tr>\n",
       "      <th>25%</th>\n",
       "      <td>117.572000</td>\n",
       "      <td>134.862500</td>\n",
       "      <td>84.291000</td>\n",
       "      <td>0.003460</td>\n",
       "      <td>0.000020</td>\n",
       "      <td>0.001660</td>\n",
       "      <td>0.001860</td>\n",
       "      <td>0.004985</td>\n",
       "      <td>0.016505</td>\n",
       "      <td>0.148500</td>\n",
       "      <td>...</td>\n",
       "      <td>0.024735</td>\n",
       "      <td>0.005925</td>\n",
       "      <td>19.198000</td>\n",
       "      <td>1.000000</td>\n",
       "      <td>0.421306</td>\n",
       "      <td>0.674758</td>\n",
       "      <td>-6.450096</td>\n",
       "      <td>0.174351</td>\n",
       "      <td>2.099125</td>\n",
       "      <td>0.137451</td>\n",
       "    </tr>\n",
       "    <tr>\n",
       "      <th>50%</th>\n",
       "      <td>148.790000</td>\n",
       "      <td>175.829000</td>\n",
       "      <td>104.315000</td>\n",
       "      <td>0.004940</td>\n",
       "      <td>0.000030</td>\n",
       "      <td>0.002500</td>\n",
       "      <td>0.002690</td>\n",
       "      <td>0.007490</td>\n",
       "      <td>0.022970</td>\n",
       "      <td>0.221000</td>\n",
       "      <td>...</td>\n",
       "      <td>0.038360</td>\n",
       "      <td>0.011660</td>\n",
       "      <td>22.085000</td>\n",
       "      <td>1.000000</td>\n",
       "      <td>0.495954</td>\n",
       "      <td>0.722254</td>\n",
       "      <td>-5.720868</td>\n",
       "      <td>0.218885</td>\n",
       "      <td>2.361532</td>\n",
       "      <td>0.194052</td>\n",
       "    </tr>\n",
       "    <tr>\n",
       "      <th>75%</th>\n",
       "      <td>182.769000</td>\n",
       "      <td>224.205500</td>\n",
       "      <td>140.018500</td>\n",
       "      <td>0.007365</td>\n",
       "      <td>0.000060</td>\n",
       "      <td>0.003835</td>\n",
       "      <td>0.003955</td>\n",
       "      <td>0.011505</td>\n",
       "      <td>0.037885</td>\n",
       "      <td>0.350000</td>\n",
       "      <td>...</td>\n",
       "      <td>0.060795</td>\n",
       "      <td>0.025640</td>\n",
       "      <td>25.075500</td>\n",
       "      <td>1.000000</td>\n",
       "      <td>0.587562</td>\n",
       "      <td>0.761881</td>\n",
       "      <td>-5.046192</td>\n",
       "      <td>0.279234</td>\n",
       "      <td>2.636456</td>\n",
       "      <td>0.252980</td>\n",
       "    </tr>\n",
       "    <tr>\n",
       "      <th>max</th>\n",
       "      <td>260.105000</td>\n",
       "      <td>592.030000</td>\n",
       "      <td>239.170000</td>\n",
       "      <td>0.033160</td>\n",
       "      <td>0.000260</td>\n",
       "      <td>0.021440</td>\n",
       "      <td>0.019580</td>\n",
       "      <td>0.064330</td>\n",
       "      <td>0.119080</td>\n",
       "      <td>1.302000</td>\n",
       "      <td>...</td>\n",
       "      <td>0.169420</td>\n",
       "      <td>0.314820</td>\n",
       "      <td>33.047000</td>\n",
       "      <td>1.000000</td>\n",
       "      <td>0.685151</td>\n",
       "      <td>0.825288</td>\n",
       "      <td>-2.434031</td>\n",
       "      <td>0.450493</td>\n",
       "      <td>3.671155</td>\n",
       "      <td>0.527367</td>\n",
       "    </tr>\n",
       "  </tbody>\n",
       "</table>\n",
       "<p>8 rows × 23 columns</p>\n",
       "</div>"
      ],
      "text/plain": [
       "       MDVP:Fo(Hz)  MDVP:Fhi(Hz)  MDVP:Flo(Hz)  MDVP:Jitter(%)  \\\n",
       "count   195.000000    195.000000    195.000000      195.000000   \n",
       "mean    154.228641    197.104918    116.324631        0.006220   \n",
       "std      41.390065     91.491548     43.521413        0.004848   \n",
       "min      88.333000    102.145000     65.476000        0.001680   \n",
       "25%     117.572000    134.862500     84.291000        0.003460   \n",
       "50%     148.790000    175.829000    104.315000        0.004940   \n",
       "75%     182.769000    224.205500    140.018500        0.007365   \n",
       "max     260.105000    592.030000    239.170000        0.033160   \n",
       "\n",
       "       MDVP:Jitter(Abs)    MDVP:RAP    MDVP:PPQ  Jitter:DDP  MDVP:Shimmer  \\\n",
       "count        195.000000  195.000000  195.000000  195.000000    195.000000   \n",
       "mean           0.000044    0.003306    0.003446    0.009920      0.029709   \n",
       "std            0.000035    0.002968    0.002759    0.008903      0.018857   \n",
       "min            0.000007    0.000680    0.000920    0.002040      0.009540   \n",
       "25%            0.000020    0.001660    0.001860    0.004985      0.016505   \n",
       "50%            0.000030    0.002500    0.002690    0.007490      0.022970   \n",
       "75%            0.000060    0.003835    0.003955    0.011505      0.037885   \n",
       "max            0.000260    0.021440    0.019580    0.064330      0.119080   \n",
       "\n",
       "       MDVP:Shimmer(dB)  ...  Shimmer:DDA         NHR         HNR      status  \\\n",
       "count        195.000000  ...   195.000000  195.000000  195.000000  195.000000   \n",
       "mean           0.282251  ...     0.046993    0.024847   21.885974    0.753846   \n",
       "std            0.194877  ...     0.030459    0.040418    4.425764    0.431878   \n",
       "min            0.085000  ...     0.013640    0.000650    8.441000    0.000000   \n",
       "25%            0.148500  ...     0.024735    0.005925   19.198000    1.000000   \n",
       "50%            0.221000  ...     0.038360    0.011660   22.085000    1.000000   \n",
       "75%            0.350000  ...     0.060795    0.025640   25.075500    1.000000   \n",
       "max            1.302000  ...     0.169420    0.314820   33.047000    1.000000   \n",
       "\n",
       "             RPDE         DFA     spread1     spread2          D2         PPE  \n",
       "count  195.000000  195.000000  195.000000  195.000000  195.000000  195.000000  \n",
       "mean     0.498536    0.718099   -5.684397    0.226510    2.381826    0.206552  \n",
       "std      0.103942    0.055336    1.090208    0.083406    0.382799    0.090119  \n",
       "min      0.256570    0.574282   -7.964984    0.006274    1.423287    0.044539  \n",
       "25%      0.421306    0.674758   -6.450096    0.174351    2.099125    0.137451  \n",
       "50%      0.495954    0.722254   -5.720868    0.218885    2.361532    0.194052  \n",
       "75%      0.587562    0.761881   -5.046192    0.279234    2.636456    0.252980  \n",
       "max      0.685151    0.825288   -2.434031    0.450493    3.671155    0.527367  \n",
       "\n",
       "[8 rows x 23 columns]"
      ]
     },
     "execution_count": 13,
     "metadata": {},
     "output_type": "execute_result"
    }
   ],
   "source": [
    "#Displaying count, mean, standard deviation and quartiles\n",
    "pkd.describe()"
   ]
  },
  {
   "cell_type": "code",
   "execution_count": 14,
   "id": "918fa3b6",
   "metadata": {},
   "outputs": [
    {
     "data": {
      "text/plain": [
       "MDVP:Fo(Hz)         0\n",
       "MDVP:Fhi(Hz)        0\n",
       "MDVP:Flo(Hz)        0\n",
       "MDVP:Jitter(%)      0\n",
       "MDVP:Jitter(Abs)    0\n",
       "MDVP:RAP            0\n",
       "MDVP:PPQ            0\n",
       "Jitter:DDP          0\n",
       "MDVP:Shimmer        0\n",
       "MDVP:Shimmer(dB)    0\n",
       "Shimmer:APQ3        0\n",
       "Shimmer:APQ5        0\n",
       "MDVP:APQ            0\n",
       "Shimmer:DDA         0\n",
       "NHR                 0\n",
       "HNR                 0\n",
       "status              0\n",
       "RPDE                0\n",
       "DFA                 0\n",
       "spread1             0\n",
       "spread2             0\n",
       "D2                  0\n",
       "PPE                 0\n",
       "dtype: int64"
      ]
     },
     "execution_count": 14,
     "metadata": {},
     "output_type": "execute_result"
    }
   ],
   "source": [
    "#Checking null values\n",
    "pkd.isna().sum()"
   ]
  },
  {
   "cell_type": "markdown",
   "id": "305a8c93",
   "metadata": {},
   "source": [
    "There are no null values in any column. This makes our task easier. Let's check for outliers now."
   ]
  },
  {
   "cell_type": "markdown",
   "id": "92634554",
   "metadata": {},
   "source": [
    "If any outliers are found, we will have to deal with them in order to have a good fit of the model.\n",
    "\n",
    "We shall use the interquartile range to look for outliers since it is the most widely used method. \n",
    "For that we have to estimate the upper bound and lower bound, calculate quartiles and interquartile range.\n",
    "\n",
    "We shall define  a function which performs this task so that we can call this function again and again to look for outliers in each column separately."
   ]
  },
  {
   "cell_type": "code",
   "execution_count": 15,
   "id": "086163fd",
   "metadata": {},
   "outputs": [
    {
     "name": "stdout",
     "output_type": "stream",
     "text": [
      "MDVP:Fo(Hz): {'No Outliers'}\n",
      "MDVP:Fhi(Hz): {'Outliers are present.'}\n",
      "MDVP:Flo(Hz): {'Outliers are present.'}\n",
      "MDVP:Jitter(%): {'Outliers are present.'}\n",
      "MDVP:Jitter(Abs): {'Outliers are present.'}\n",
      "MDVP:RAP: {'Outliers are present.'}\n",
      "MDVP:PPQ: {'Outliers are present.'}\n",
      "Jitter:DDP: {'Outliers are present.'}\n",
      "MDVP:Shimmer: {'Outliers are present.'}\n",
      "MDVP:Shimmer(dB): {'Outliers are present.'}\n",
      "Shimmer:APQ3: {'Outliers are present.'}\n",
      "Shimmer:APQ5: {'Outliers are present.'}\n",
      "MDVP:APQ: {'Outliers are present.'}\n",
      "Shimmer:DDA: {'Outliers are present.'}\n",
      "NHR: {'Outliers are present.'}\n",
      "HNR: {'Outliers are present.'}\n",
      "status: {'Outliers are present.'}\n",
      "RPDE: {'No Outliers'}\n",
      "DFA: {'No Outliers'}\n",
      "spread1: {'Outliers are present.'}\n",
      "spread2: {'Outliers are present.'}\n",
      "D2: {'Outliers are present.'}\n",
      "PPE: {'Outliers are present.'}\n"
     ]
    }
   ],
   "source": [
    "#Checking outliers\n",
    "\n",
    "#defining the function\n",
    "def outlier_check(data):\n",
    "    #First quartile\n",
    "    Q1 = data.quantile(0.25)\n",
    "    #Third quartile\n",
    "    Q3 = data.quantile(0.75)\n",
    "    #Interquartile range\n",
    "    IQR = Q3 - Q1\n",
    "    #Estimating lower bound\n",
    "    minimum = Q1 - (1.5 * IQR)\n",
    "    #Estimating upper bound\n",
    "    maximum = Q3 + (1.5 * IQR)\n",
    "    #The data points that lie above the upper bound or below the lower bound are called outliers. \n",
    "    num_outliers =  np.sum((data < minimum) |(data > maximum))\n",
    "    if num_outliers ==0:\n",
    "        return \"No Outliers\"\n",
    "    else:\n",
    "        return \"Outliers are present.\"\n",
    "\n",
    "#Now we will check for outliers for each column.\n",
    "for column in pkd:\n",
    "    data =pkd[column]\n",
    "    m={outlier_check(data)}\n",
    "    print(f'{column}: {m}')"
   ]
  },
  {
   "cell_type": "markdown",
   "id": "389ea826",
   "metadata": {},
   "source": [
    "As we note from above, 20 columns have outliers and **MDVP:Fp(Hz), RPDE, DFA** are the columns that don't have outliers. We need to remove these outliers in order to eradicate the noise in the dataset. We shall perform this in the data cleaning and preprocessing step."
   ]
  },
  {
   "cell_type": "markdown",
   "id": "1d5c90ef",
   "metadata": {},
   "source": [
    "## Cleaning and preprocessing the data"
   ]
  },
  {
   "cell_type": "markdown",
   "id": "6804917c",
   "metadata": {},
   "source": [
    "Since we have gained a good knowledge about our dataset, let us now clean and preprocess the data.\n",
    "\n",
    "In the previous step, we checked for null values and outliers. Since no null values were found, our task got a bit easier but then we found that 20 columns have outliers. We shall remove these outliers first before we proceed to standardize our data."
   ]
  },
  {
   "cell_type": "code",
   "execution_count": 16,
   "id": "7cfa5512",
   "metadata": {},
   "outputs": [
    {
     "data": {
      "text/plain": [
       "MDVP:Fo(Hz)          0\n",
       "MDVP:Fhi(Hz)        11\n",
       "MDVP:Flo(Hz)         9\n",
       "MDVP:Jitter(%)      14\n",
       "MDVP:Jitter(Abs)     7\n",
       "MDVP:RAP            14\n",
       "MDVP:PPQ            15\n",
       "Jitter:DDP          14\n",
       "MDVP:Shimmer         8\n",
       "MDVP:Shimmer(dB)    10\n",
       "Shimmer:APQ3         6\n",
       "Shimmer:APQ5        13\n",
       "MDVP:APQ            12\n",
       "Shimmer:DDA          6\n",
       "NHR                 19\n",
       "HNR                  3\n",
       "status              48\n",
       "RPDE                 0\n",
       "DFA                  0\n",
       "spread1              4\n",
       "spread2              2\n",
       "D2                   1\n",
       "PPE                  5\n",
       "dtype: int64"
      ]
     },
     "execution_count": 16,
     "metadata": {},
     "output_type": "execute_result"
    }
   ],
   "source": [
    "#Removing outliers\n",
    "for column in pkd.columns:\n",
    "    d = pkd[column] \n",
    "    #First quartile    \n",
    "    Q1 = d.quantile(0.25)\n",
    "    #Third quartile\n",
    "    Q3 = d.quantile(0.75)\n",
    "    IQR = Q3 - Q1\n",
    "    #Estimating lower bound\n",
    "    minimum = Q1 - (1.5 * IQR)\n",
    "    #Estimating upper bound\n",
    "    maximum = Q3 + (1.5 * IQR)\n",
    "    #The data points that lie above the upper bound or below the lower bound are called outliers. \n",
    "    outliers = ((d < minimum) |(d > maximum))\n",
    "    #Replacing outliers with NaN which will be eventually dealt with in the next step.\n",
    "    pkd[column].loc[outliers]=np.nan\n",
    "#Displaying number of outliers in each column which are now replaced with NaN values    \n",
    "pkd.isna().sum()"
   ]
  },
  {
   "cell_type": "markdown",
   "id": "9fe854d3",
   "metadata": {},
   "source": [
    "We removed outliers from all columns and replaced them with NaN values. Now, we shall deal with these NaN values.\n",
    "\n",
    "We shall fill all these null vaues with the mean values of respective columns."
   ]
  },
  {
   "cell_type": "code",
   "execution_count": 17,
   "id": "3fdda0f7",
   "metadata": {},
   "outputs": [],
   "source": [
    "#Replacing null values with mean value of respective columns\n",
    "for column in pkd:\n",
    "    pkd[column].fillna(int(df[column].mean()), inplace=True)"
   ]
  },
  {
   "cell_type": "markdown",
   "id": "40218ef1",
   "metadata": {},
   "source": [
    "Let us check if all Nan values are dealt with."
   ]
  },
  {
   "cell_type": "code",
   "execution_count": 18,
   "id": "d5af987d",
   "metadata": {},
   "outputs": [
    {
     "data": {
      "text/plain": [
       "MDVP:Fo(Hz)         0\n",
       "MDVP:Fhi(Hz)        0\n",
       "MDVP:Flo(Hz)        0\n",
       "MDVP:Jitter(%)      0\n",
       "MDVP:Jitter(Abs)    0\n",
       "MDVP:RAP            0\n",
       "MDVP:PPQ            0\n",
       "Jitter:DDP          0\n",
       "MDVP:Shimmer        0\n",
       "MDVP:Shimmer(dB)    0\n",
       "Shimmer:APQ3        0\n",
       "Shimmer:APQ5        0\n",
       "MDVP:APQ            0\n",
       "Shimmer:DDA         0\n",
       "NHR                 0\n",
       "HNR                 0\n",
       "status              0\n",
       "RPDE                0\n",
       "DFA                 0\n",
       "spread1             0\n",
       "spread2             0\n",
       "D2                  0\n",
       "PPE                 0\n",
       "dtype: int64"
      ]
     },
     "execution_count": 18,
     "metadata": {},
     "output_type": "execute_result"
    }
   ],
   "source": [
    "#Checking null values\n",
    "pkd.isna().sum()"
   ]
  },
  {
   "cell_type": "markdown",
   "id": "3da6a174",
   "metadata": {},
   "source": [
    "As we can see, all columns have 0 null values. This means we have succesfully removed outliers and replaced them with the mean values.\n",
    "\n"
   ]
  },
  {
   "cell_type": "markdown",
   "id": "e33f492a",
   "metadata": {},
   "source": [
    "## Data Visualisation"
   ]
  },
  {
   "cell_type": "markdown",
   "id": "66bdaa17",
   "metadata": {},
   "source": [
    "Let us do some plotting now.\n",
    "\n",
    "We shall plot a correlation heat map of our data and see what changes can be made in our dataset before Train-Test split."
   ]
  },
  {
   "cell_type": "code",
   "execution_count": 19,
   "id": "a4fffb4c",
   "metadata": {},
   "outputs": [
    {
     "data": {
      "image/png": "[encoded data removed]",
      "text/plain": [
       "<Figure size 864x864 with 2 Axes>"
      ]
     },
     "metadata": {
      "needs_background": "light"
     },
     "output_type": "display_data"
    }
   ],
   "source": [
    "#Plotting correlation heat map\n",
    "plt.figure(figsize = (12, 12))\n",
    "dataplot=sb.heatmap(pkd.corr())"
   ]
  },
  {
   "cell_type": "markdown",
   "id": "af842aa1",
   "metadata": {},
   "source": [
    "From the above plot, it is pretty evident that \n",
    "1. Jitter: DDP and MDVP:RAP \n",
    "2. Shimmer: DDA and Shimmer:APQ3\n",
    "\n",
    "have a really high correlation i.e.: 1.\n",
    "\n",
    "This means that we have full liberty to drop \n",
    "1. either Jitter: DDP or MDVP:RAP \n",
    "2. either Shimmer: DDA or Shimmer:APQ3\n",
    "\n",
    "without affecting our results. So, let's do it."
   ]
  },
  {
   "cell_type": "code",
   "execution_count": 20,
   "id": "ed9d3394",
   "metadata": {},
   "outputs": [],
   "source": [
    "#Dropping columns with high correlation\n",
    "pkd.drop(columns=['Jitter:DDP','Shimmer:DDA'],inplace=True)\n"
   ]
  },
  {
   "cell_type": "markdown",
   "id": "8d76a821",
   "metadata": {},
   "source": [
    "Let us now standardise our data.\n",
    "\n",
    "The status column has values 0 and 1 representing 'Healthy' and 'Parkinson's' respectively. We don't need this column to get standardized. So, we'll first create X(independent variable) and Y(dependent variable) and then standardise X while leaving Y as it is."
   ]
  },
  {
   "cell_type": "code",
   "execution_count": 21,
   "id": "5302cee4",
   "metadata": {},
   "outputs": [],
   "source": [
    "#Defining x(independent variable)\n",
    "feature_pkd=pkd[['MDVP:Fo(Hz)', 'MDVP:Fhi(Hz)', 'MDVP:Flo(Hz)', 'MDVP:Jitter(%)',\n",
    "       'MDVP:Jitter(Abs)', 'MDVP:RAP', 'MDVP:PPQ',\n",
    "       'MDVP:Shimmer', 'MDVP:Shimmer(dB)', 'Shimmer:APQ3', 'Shimmer:APQ5',\n",
    "       'MDVP:APQ', 'NHR', 'HNR', 'RPDE', 'DFA',\n",
    "       'spread1', 'spread2', 'D2', 'PPE']]\n",
    "x=np.asarray(feature_pkd)"
   ]
  },
  {
   "cell_type": "code",
   "execution_count": 22,
   "id": "cd634902",
   "metadata": {},
   "outputs": [],
   "source": [
    "#Standardising X(independent variable)\n",
    "X = pd.DataFrame(StandardScaler().fit_transform(x))"
   ]
  },
  {
   "cell_type": "code",
   "execution_count": 23,
   "id": "2497f942",
   "metadata": {},
   "outputs": [],
   "source": [
    "#Defining Y(dependent variable)\n",
    "Y=np.asarray(pkd['status'])"
   ]
  },
  {
   "cell_type": "markdown",
   "id": "c2e9c826",
   "metadata": {},
   "source": [
    "Now, we shall perform the train-test split of our data."
   ]
  },
  {
   "cell_type": "code",
   "execution_count": 24,
   "id": "16826686",
   "metadata": {},
   "outputs": [],
   "source": [
    "#Train-Test split of our dataset\n",
    "X_train,X_test,Y_train,Y_test=train_test_split(X,Y,test_size=0.2,random_state=0)"
   ]
  },
  {
   "cell_type": "code",
   "execution_count": 25,
   "id": "a0b11c86",
   "metadata": {},
   "outputs": [
    {
     "name": "stdout",
     "output_type": "stream",
     "text": [
      "shape of original dataset : (195, 21)\n",
      "shape of input training set (156, 20)\n",
      "shape of output training set (156,)\n",
      "shape of input testing set (39, 20)\n",
      "shape of output testing set (39,)\n"
     ]
    }
   ],
   "source": [
    "print(\"shape of original dataset :\", pkd.shape)\n",
    "print(\"shape of input training set\", X_train.shape)\n",
    "print(\"shape of output training set\", Y_train.shape)\n",
    "print(\"shape of input testing set\", X_test.shape)\n",
    "print(\"shape of output testing set\", Y_test.shape)"
   ]
  },
  {
   "cell_type": "markdown",
   "id": "29cf330f",
   "metadata": {},
   "source": [
    "We are done with the cleaning and preprocessing of data. Let us start with modelling."
   ]
  },
  {
   "cell_type": "markdown",
   "id": "c7a2bb78",
   "metadata": {},
   "source": [
    "## Fitting the data to a KNN model"
   ]
  },
  {
   "cell_type": "markdown",
   "id": "b8ba3358",
   "metadata": {},
   "source": [
    "We shall now fit our data to a KNN model. \n",
    "\n",
    "First, we need to find the appropriate value of k."
   ]
  },
  {
   "cell_type": "code",
   "execution_count": 26,
   "id": "fb97f5a1",
   "metadata": {},
   "outputs": [
    {
     "name": "stdout",
     "output_type": "stream",
     "text": [
      "9\n"
     ]
    }
   ],
   "source": [
    "#Finding optimal k by fitting the data to a KNN model\n",
    "ac_scores=[]\n",
    "mylist=list(range(1,20))\n",
    "neighbors=list(filter(lambda x:x%2!=0,mylist))\n",
    "for k in neighbors:\n",
    "    knn=KNeighborsClassifier(n_neighbors=k)\n",
    "    knn.fit(X_train,Y_train)\n",
    "    Y_pred=knn.predict(X_test)\n",
    "    scores=accuracy_score(Y_test,Y_pred)\n",
    "    ac_scores.append(scores)\n",
    "optimal_k=neighbors[ac_scores.index(max(ac_scores))]\n",
    "print(optimal_k)"
   ]
  },
  {
   "cell_type": "markdown",
   "id": "f1a96f4e",
   "metadata": {},
   "source": [
    "The optimal value of k = 9. This value of k shall now be used to predict Y based on X when any new entry is introduced."
   ]
  },
  {
   "cell_type": "markdown",
   "id": "405d7c46",
   "metadata": {},
   "source": [
    "## Fitting the data to a Decision Tree model"
   ]
  },
  {
   "cell_type": "markdown",
   "id": "2801334c",
   "metadata": {},
   "source": [
    "Let us fit the data to a Decision Tree model."
   ]
  },
  {
   "cell_type": "code",
   "execution_count": 27,
   "id": "d4bea71f",
   "metadata": {},
   "outputs": [],
   "source": [
    "#Fitting the data to a Decision Tree model.\n",
    "drugTree=DecisionTreeClassifier(criterion=\"entropy\",max_depth=4)\n",
    "drugTree.fit(X_train,Y_train)\n",
    "predTree=drugTree.predict(X_test)"
   ]
  },
  {
   "cell_type": "markdown",
   "id": "35a24276",
   "metadata": {},
   "source": [
    "## Fitting the data to an SVM model"
   ]
  },
  {
   "cell_type": "markdown",
   "id": "b4b16c41",
   "metadata": {},
   "source": [
    "Let us fit the data to an SVM model."
   ]
  },
  {
   "cell_type": "code",
   "execution_count": 28,
   "id": "e540144e",
   "metadata": {},
   "outputs": [],
   "source": [
    "#Fitting the data to an SVM model\n",
    "clf=svm.SVC(kernel='rbf')\n",
    "clf.fit(X_train,Y_train)\n",
    "Yhat=clf.predict(X_test)"
   ]
  },
  {
   "cell_type": "markdown",
   "id": "55c76cea",
   "metadata": {},
   "source": [
    "## Fitting the data to a Logistic Regression model"
   ]
  },
  {
   "cell_type": "markdown",
   "id": "1dd3c7c1",
   "metadata": {},
   "source": [
    "Let us fit the data to a Logistic Regression model."
   ]
  },
  {
   "cell_type": "code",
   "execution_count": 34,
   "id": "dc39de74",
   "metadata": {},
   "outputs": [],
   "source": [
    "#Fitting the data to a Logistic Reression model\n",
    "LR = LogisticRegression(C=0.01, solver='liblinear').fit(X_train,Y_train)\n",
    "yhat_prob = LR.predict_proba(X_test)\n",
    "yhat_pred=LR.predict(X_test)"
   ]
  },
  {
   "cell_type": "markdown",
   "id": "f888591b",
   "metadata": {},
   "source": [
    "## Evaluation"
   ]
  },
  {
   "cell_type": "markdown",
   "id": "3dedd03a",
   "metadata": {},
   "source": [
    "Let us now check the accuracy of KNN model using Jaccard index and F1-score."
   ]
  },
  {
   "cell_type": "code",
   "execution_count": 30,
   "id": "fc76f70e",
   "metadata": {},
   "outputs": [
    {
     "name": "stdout",
     "output_type": "stream",
     "text": [
      "Train set Accuracy for KNN using Jaccard Index:  0.8333333333333334\n",
      "Test set Accuracy for KNN using Jaccard Index:  0.8461538461538461\n",
      "Train set accuracy for KNN using f1 score: 0.8064886592018374\n",
      "Test set accuracy for KNN using f1 score: 0.8401709401709402\n"
     ]
    }
   ],
   "source": [
    "#Jaccard Index\n",
    "j1=metrics.accuracy_score(Y_test, Y_pred)\n",
    "print(\"Train set Accuracy for KNN using Jaccard Index: \", metrics.accuracy_score(Y_train, knn.predict(X_train)))\n",
    "print(\"Test set Accuracy for KNN using Jaccard Index: \", metrics.accuracy_score(Y_test, Y_pred))\n",
    "\n",
    "#F1-Score\n",
    "f1=f1_score(Y_test, knn.predict(X_test), average='weighted')\n",
    "print(\"Train set accuracy for KNN using f1 score:\",f1_score(Y_train, knn.predict(X_train), average='weighted'))\n",
    "print(\"Test set accuracy for KNN using f1 score:\",f1_score(Y_test, knn.predict(X_test), average='weighted'))"
   ]
  },
  {
   "cell_type": "markdown",
   "id": "031ea767",
   "metadata": {},
   "source": [
    "Let us now check the accuracy of Decision Tree model using Jaccard index and F1-score."
   ]
  },
  {
   "cell_type": "code",
   "execution_count": 31,
   "id": "f70b82db",
   "metadata": {},
   "outputs": [
    {
     "name": "stdout",
     "output_type": "stream",
     "text": [
      "Train set Accuracy for Decision Tree using Jaccard Index: 0.9487179487179487\n",
      "Test set Accuracy for Decision Tree usin Jaccard Index: 0.8974358974358975\n",
      "Train set accuracy for Decision Tree using f1 score: 0.9477207977207976\n",
      "Test set accuracy for Decision Tree using f1 score: 0.9021842355175688\n"
     ]
    }
   ],
   "source": [
    "#Jaccard Index\n",
    "j2=metrics.accuracy_score(Y_test,predTree)\n",
    "print(\"Train set Accuracy for Decision Tree using Jaccard Index:\",metrics.accuracy_score(Y_train,drugTree.predict(X_train)))\n",
    "print(\"Test set Accuracy for Decision Tree usin Jaccard Index:\",metrics.accuracy_score(Y_test,predTree))\n",
    "\n",
    "#F1-Score\n",
    "f2=f1_score(Y_test, drugTree.predict(X_test), average='weighted')\n",
    "print(\"Train set accuracy for Decision Tree using f1 score:\",f1_score(Y_train, drugTree.predict(X_train), average='weighted'))\n",
    "print(\"Test set accuracy for Decision Tree using f1 score:\",f1_score(Y_test, drugTree.predict(X_test), average='weighted'))"
   ]
  },
  {
   "cell_type": "markdown",
   "id": "e963c661",
   "metadata": {},
   "source": [
    "Let us now check the accuracy of SVM model using Jaccard index and F1-score."
   ]
  },
  {
   "cell_type": "code",
   "execution_count": 32,
   "id": "5f956654",
   "metadata": {},
   "outputs": [
    {
     "name": "stdout",
     "output_type": "stream",
     "text": [
      "Train set Accuracy for SVM using Jaccard Index: 0.9294871794871795\n",
      "Train set Accuracy for SVM using Jaccard Index: 0.8974358974358975\n",
      "Train set accuracy for SVM using f1 score: 0.9250908335928579\n",
      "Test set accuracy for SVM using f1 score: 0.8934472934472933\n"
     ]
    }
   ],
   "source": [
    "#jaccard Index\n",
    "j3=metrics.accuracy_score(Y_test,Yhat)\n",
    "print(\"Train set Accuracy for SVM using Jaccard Index:\",metrics.accuracy_score(Y_train,clf.predict(X_train)))\n",
    "print(\"Train set Accuracy for SVM using Jaccard Index:\",metrics.accuracy_score(Y_test,Yhat))\n",
    "\n",
    "#F1-score\n",
    "f3=f1_score(Y_test, clf.predict(X_test), average='weighted')\n",
    "print(\"Train set accuracy for SVM using f1 score:\",f1_score(Y_train, clf.predict(X_train), average='weighted'))\n",
    "print(\"Test set accuracy for SVM using f1 score:\",f1_score(Y_test, clf.predict(X_test), average='weighted'))"
   ]
  },
  {
   "cell_type": "markdown",
   "id": "f142eb5e",
   "metadata": {},
   "source": [
    "Let us now check the accuracy of Logistic Regression model using Jaccard index, F1-score and log loss."
   ]
  },
  {
   "cell_type": "code",
   "execution_count": 35,
   "id": "9c75ad95",
   "metadata": {},
   "outputs": [
    {
     "name": "stdout",
     "output_type": "stream",
     "text": [
      "Train set Accuracy for Logistic Regression using Jaccard Index:  0.782051282051282\n",
      "Test set Accuracy for Logistic Regression using Jaccard Index: 0.8461538461538461\n",
      "Train set accuracy for Logistic Regression using f1 score: 0.7910735098235099\n",
      "Test set accuracy for Logistic Regression using f1 score: 0.8503996003996005\n",
      "Train set accuracy for Logistic Regression using Log Loss: 0.5102952688355087\n",
      "Test set accuracy for Logistic Regression using Log Loss: 0.4745893372431901\n"
     ]
    }
   ],
   "source": [
    "#Jaccard Index\n",
    "j4=metrics.accuracy_score(Y_test, yhat_pred)\n",
    "print(\"Train set Accuracy for Logistic Regression using Jaccard Index: \", metrics.accuracy_score(Y_train, LR.predict(X_train)))\n",
    "print(\"Test set Accuracy for Logistic Regression using Jaccard Index:\", metrics.accuracy_score(Y_test, yhat_pred))\n",
    "\n",
    "#F1-Score\n",
    "f4=f1_score(Y_test, LR.predict(X_test), average='weighted')\n",
    "print(\"Train set accuracy for Logistic Regression using f1 score:\",f1_score(Y_train, LR.predict(X_train), average='weighted'))\n",
    "print(\"Test set accuracy for Logistic Regression using f1 score:\",f1_score(Y_test, LR.predict(X_test), average='weighted'))\n",
    "\n",
    "#Log loss\n",
    "lr_pred = LR.predict_proba(X_test)\n",
    "lr_pred_train=LR.predict_proba(X_train)\n",
    "print(\"Train set accuracy for Logistic Regression using Log Loss:\",log_loss(Y_train, lr_pred_train))\n",
    "print(\"Test set accuracy for Logistic Regression using Log Loss:\",log_loss(Y_test, lr_pred))\n",
    "l4=log_loss(Y_test, lr_pred)"
   ]
  },
  {
   "cell_type": "markdown",
   "id": "c3d87392",
   "metadata": {},
   "source": [
    "## Conclusion"
   ]
  },
  {
   "cell_type": "markdown",
   "id": "f4e275af",
   "metadata": {},
   "source": [
    "We have fit our data to 4 models. Let us jot down accuracies of these 4 models to determine which model is the best."
   ]
  },
  {
   "cell_type": "code",
   "execution_count": 37,
   "id": "a2968446",
   "metadata": {},
   "outputs": [
    {
     "data": {
      "text/html": [
       "<div>\n",
       "<style scoped>\n",
       "    .dataframe tbody tr th:only-of-type {\n",
       "        vertical-align: middle;\n",
       "    }\n",
       "\n",
       "    .dataframe tbody tr th {\n",
       "        vertical-align: top;\n",
       "    }\n",
       "\n",
       "    .dataframe thead th {\n",
       "        text-align: right;\n",
       "    }\n",
       "</style>\n",
       "<table border=\"1\" class=\"dataframe\">\n",
       "  <thead>\n",
       "    <tr style=\"text-align: right;\">\n",
       "      <th></th>\n",
       "      <th>Jaccard</th>\n",
       "      <th>F1-score</th>\n",
       "      <th>LogLoss</th>\n",
       "    </tr>\n",
       "  </thead>\n",
       "  <tbody>\n",
       "    <tr>\n",
       "      <th>KNN</th>\n",
       "      <td>0.8461538461538461</td>\n",
       "      <td>0.8401709401709402</td>\n",
       "      <td>NA</td>\n",
       "    </tr>\n",
       "    <tr>\n",
       "      <th>Decision Tree</th>\n",
       "      <td>0.8974358974358975</td>\n",
       "      <td>0.9021842355175688</td>\n",
       "      <td>NA</td>\n",
       "    </tr>\n",
       "    <tr>\n",
       "      <th>SVM</th>\n",
       "      <td>0.8974358974358975</td>\n",
       "      <td>0.8934472934472933</td>\n",
       "      <td>NA</td>\n",
       "    </tr>\n",
       "    <tr>\n",
       "      <th>Logistic Regression</th>\n",
       "      <td>0.8461538461538461</td>\n",
       "      <td>0.8503996003996005</td>\n",
       "      <td>0.4745893372431901</td>\n",
       "    </tr>\n",
       "  </tbody>\n",
       "</table>\n",
       "</div>"
      ],
      "text/plain": [
       "                                Jaccard            F1-score  \\\n",
       "KNN                  0.8461538461538461  0.8401709401709402   \n",
       "Decision Tree        0.8974358974358975  0.9021842355175688   \n",
       "SVM                  0.8974358974358975  0.8934472934472933   \n",
       "Logistic Regression  0.8461538461538461  0.8503996003996005   \n",
       "\n",
       "                                LogLoss  \n",
       "KNN                                  NA  \n",
       "Decision Tree                        NA  \n",
       "SVM                                  NA  \n",
       "Logistic Regression  0.4745893372431901  "
      ]
     },
     "execution_count": 37,
     "metadata": {},
     "output_type": "execute_result"
    }
   ],
   "source": [
    "js=[j1,j2,j3,j4]\n",
    "f1s=[f1,f2,f3,f4]\n",
    "ll=['NA','NA','NA',l4]\n",
    "index   = [\"KNN\", \"Decision Tree\", \"SVM\", \"Logistic Regression\"]\n",
    "colunms = [\"Jaccard\", \"F1-score\", \"LogLoss\"]\n",
    "\n",
    "data = [js, f1s, ll]\n",
    "data = np.array(data).T\n",
    "\n",
    "df = pd.DataFrame(data, index=index, columns=colunms)\n",
    "df"
   ]
  },
  {
   "cell_type": "markdown",
   "id": "e8cb5091",
   "metadata": {},
   "source": [
    "From the above table, it can be easily seen that **Decsision Tree proves to be the best model with the highest accuracy.**"
   ]
  },
  {
   "cell_type": "markdown",
   "id": "080777ca",
   "metadata": {},
   "source": [
    "### Therefore, the most appropriate model of classification will be **Decision Tree** for our dataset."
   ]
  },
  {
   "cell_type": "markdown",
   "id": "9fe163d9",
   "metadata": {},
   "source": [
    "**Author:** Amisha Sahoo\n",
    "\n",
    "**Dataset source:** Kaggle"
   ]
  }
 ],
 "metadata": {
  "kernelspec": {
   "display_name": "Python 3",
   "language": "python",
   "name": "python3"
  },
  "language_info": {
   "codemirror_mode": {
    "name": "ipython",
    "version": 3
   },
   "file_extension": ".py",
   "mimetype": "text/x-python",
   "name": "python",
   "nbconvert_exporter": "python",
   "pygments_lexer": "ipython3",
   "version": "3.8.8"
  }
 },
 "nbformat": 4,
 "nbformat_minor": 5
}
